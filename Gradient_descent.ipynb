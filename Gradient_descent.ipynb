{
  "nbformat": 4,
  "nbformat_minor": 0,
  "metadata": {
    "colab": {
      "provenance": [],
      "authorship_tag": "ABX9TyNQdNPSvgNAvYuv4SM7TP7+",
      "include_colab_link": true
    },
    "kernelspec": {
      "name": "python3",
      "display_name": "Python 3"
    },
    "language_info": {
      "name": "python"
    }
  },
  "cells": [
    {
      "cell_type": "markdown",
      "metadata": {
        "id": "view-in-github",
        "colab_type": "text"
      },
      "source": [
        "<a href=\"https://colab.research.google.com/github/Tanishanagori2012/Calulus/blob/main/Gradient_descent.ipynb\" target=\"_parent\"><img src=\"https://colab.research.google.com/assets/colab-badge.svg\" alt=\"Open In Colab\"/></a>"
      ]
    },
    {
      "cell_type": "code",
      "execution_count": 1,
      "metadata": {
        "id": "GAOsw9YsU0FT"
      },
      "outputs": [],
      "source": [
        "# Importing required modules.\n",
        "import autograd.numpy as np\n",
        "from autograd import grad as g\n",
        "     "
      ]
    },
    {
      "cell_type": "code",
      "source": [
        "# calculating differentiation of function.\n",
        "def sinFunction(x):\n",
        "    '''\n",
        "    Return: sin function.\n",
        "\n",
        "    Parameter x: It is a argument given to function.\n",
        "    Precondition: It is any argument.\n",
        "    '''\n",
        "    return np.sin(x)\n",
        "gradient = g(sinFunction)"
      ],
      "metadata": {
        "id": "0BJkQPkLU8bB"
      },
      "execution_count": 2,
      "outputs": []
    },
    {
      "cell_type": "code",
      "source": [
        "# calculating minima.\n",
        "x_n = 1.0             # initially randomly choosen point.\n",
        "alpha = 1                  # learnig factor.\n",
        "val = True\n",
        "while val:\n",
        "    if gradient(x_n) > 0:\n",
        "        xN = x_n - alpha * gradient(x_n)\n",
        "        x_n -= alpha\n",
        "    if gradient(x_n) < 0:           # This will stop the iterative process if dradient is negative.\n",
        "        break\n",
        "print(xN/np.pi)   "
      ],
      "metadata": {
        "colab": {
          "base_uri": "https://localhost:8080/"
        },
        "id": "0p045bFCVC31",
        "outputId": "6c288be6-d936-438d-bd91-3e5ef29131d9"
      },
      "execution_count": 3,
      "outputs": [
        {
          "output_type": "stream",
          "name": "stdout",
          "text": [
            "-0.49029345166951793\n"
          ]
        }
      ]
    },
    {
      "cell_type": "code",
      "source": [
        "# Defining function.\n",
        "def square(x):\n",
        "    '''\n",
        "    Return: x ** 2 function.\n",
        "\n",
        "    Parameter x: It is a argument given to function.\n",
        "    Precondition: It is any argument.\n",
        "    '''\n",
        "    return x ** 2\n",
        "gradient = g(square)"
      ],
      "metadata": {
        "id": "mQ1E2prDVHEU"
      },
      "execution_count": 4,
      "outputs": []
    },
    {
      "cell_type": "code",
      "source": [
        "# calculating minima.\n",
        "x_n = 100.0             # initially randomly choosen point.\n",
        "alpha = 0.001                  # learning factor.\n",
        "val = True\n",
        "while val:\n",
        "    if gradient(x_n) > 0:\n",
        "        xN = x_n - alpha * gradient(x_n)\n",
        "        x_n -= alpha\n",
        "    if gradient(x_n) < 0:           # This will stop the iterative process if dradient is negative.\n",
        "        break\n",
        "print(xN)         # Giving value of minima.\n",
        "     "
      ],
      "metadata": {
        "colab": {
          "base_uri": "https://localhost:8080/"
        },
        "id": "WRyfm-CiVLTV",
        "outputId": "fa1e0742-d747-41cd-93e9-0aa4ba94b5c9"
      },
      "execution_count": 5,
      "outputs": [
        {
          "output_type": "stream",
          "name": "stdout",
          "text": [
            "0.0009979998867890678\n"
          ]
        }
      ]
    },
    {
      "cell_type": "code",
      "source": [
        "# Defining functions.\n",
        "def function(X):\n",
        "    '''\n",
        "    Return: x ** 2 + y ** 2 function.\n",
        "\n",
        "    Parameter X: It is a argument given to function.\n",
        "    Precondition: It is any argument.\n",
        "    '''\n",
        "    x, y = X\n",
        "    return x ** 2 + y ** 2\n",
        "gradient = g(function)"
      ],
      "metadata": {
        "id": "KjomN0H7VS7v"
      },
      "execution_count": 6,
      "outputs": []
    },
    {
      "cell_type": "code",
      "source": [
        "# calculating minima.\n",
        "x_n = [float(input(f\"enter value {i} start with:\")) for i in range(1, 3)]             # initially randomly choosen point.\n",
        "alpha = 0.001                # learning factor.\n",
        "previous = [0.0, 0.0]   # accumulator to keep previous values track\n",
        "val = True\n",
        "while val:\n",
        "    x_n[0] = x_n[0] - alpha*(gradient(x_n)[0]) # gradient decent for first variable\n",
        "    x_n[1] = x_n[1] - alpha*(gradient(x_n)[1]) # gradient decent for second variable\n",
        "    if abs(gradient(x_n)[0] - gradient(previous)[0])<0.0001 and abs(gradient(x_n)[1] - gradient(previous)[1])<0.0001:\n",
        "        val = False\n",
        "        print(x_n)\n",
        "    previous = x_n.copy()    # avoiding loss of values"
      ],
      "metadata": {
        "colab": {
          "base_uri": "https://localhost:8080/"
        },
        "id": "SynhivJXVV2v",
        "outputId": "49ab5570-e224-42b1-8367-a464f6c24273"
      },
      "execution_count": 7,
      "outputs": [
        {
          "output_type": "stream",
          "name": "stdout",
          "text": [
            "enter value 1 start with:1\n",
            "enter value 2 start with:2\n",
            "[0.01247054458322747, 0.02494108916645494]\n"
          ]
        }
      ]
    }
  ]
}